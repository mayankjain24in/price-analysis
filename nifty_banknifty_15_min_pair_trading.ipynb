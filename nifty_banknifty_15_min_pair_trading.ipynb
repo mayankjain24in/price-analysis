{
 "cells": [
  {
   "cell_type": "code",
   "execution_count": 39,
   "metadata": {},
   "outputs": [],
   "source": [
    "import pandas as pd\n",
    "import numpy as np\n",
    "import statsmodels.api as sm\n",
    "from statsmodels.tsa.stattools import adfuller\n",
    "from statsmodels.api import OLS"
   ]
  },
  {
   "cell_type": "code",
   "execution_count": 40,
   "metadata": {},
   "outputs": [],
   "source": [
    "df = pd.read_excel(r\"C:\\Users\\Admin\\Downloads\\nifty_banknifty_15min_data.xlsx\", index_col=0)"
   ]
  },
  {
   "cell_type": "code",
   "execution_count": 41,
   "metadata": {},
   "outputs": [
    {
     "data": {
      "text/html": [
       "<div>\n",
       "<style scoped>\n",
       "    .dataframe tbody tr th:only-of-type {\n",
       "        vertical-align: middle;\n",
       "    }\n",
       "\n",
       "    .dataframe tbody tr th {\n",
       "        vertical-align: top;\n",
       "    }\n",
       "\n",
       "    .dataframe thead th {\n",
       "        text-align: right;\n",
       "    }\n",
       "</style>\n",
       "<table border=\"1\" class=\"dataframe\">\n",
       "  <thead>\n",
       "    <tr style=\"text-align: right;\">\n",
       "      <th></th>\n",
       "      <th>NIFTY</th>\n",
       "      <th>BANKNIFTY</th>\n",
       "    </tr>\n",
       "    <tr>\n",
       "      <th>Trade Date &amp; Time</th>\n",
       "      <th></th>\n",
       "      <th></th>\n",
       "    </tr>\n",
       "  </thead>\n",
       "  <tbody>\n",
       "    <tr>\n",
       "      <td>2019-02-04 09:29:00</td>\n",
       "      <td>10880.55</td>\n",
       "      <td>26974.85</td>\n",
       "    </tr>\n",
       "    <tr>\n",
       "      <td>2019-02-04 09:44:00</td>\n",
       "      <td>10856.70</td>\n",
       "      <td>26912.45</td>\n",
       "    </tr>\n",
       "  </tbody>\n",
       "</table>\n",
       "</div>"
      ],
      "text/plain": [
       "                        NIFTY  BANKNIFTY\n",
       "Trade Date & Time                       \n",
       "2019-02-04 09:29:00  10880.55   26974.85\n",
       "2019-02-04 09:44:00  10856.70   26912.45"
      ]
     },
     "execution_count": 41,
     "metadata": {},
     "output_type": "execute_result"
    }
   ],
   "source": [
    "df.head(2)"
   ]
  },
  {
   "cell_type": "code",
   "execution_count": 42,
   "metadata": {},
   "outputs": [
    {
     "data": {
      "text/plain": [
       "4500"
      ]
     },
     "execution_count": 42,
     "metadata": {},
     "output_type": "execute_result"
    }
   ],
   "source": [
    "rows = df.count(axis=0)\n",
    "rows[0]"
   ]
  },
  {
   "cell_type": "markdown",
   "metadata": {},
   "source": [
    "# Rolling_Hedge_Ratio_Calculation"
   ]
  },
  {
   "cell_type": "code",
   "execution_count": 43,
   "metadata": {},
   "outputs": [],
   "source": [
    "\n",
    "rolling_window_hedge_ratio = 1000\n",
    "rolling_window_adf = 1000\n",
    "\n",
    "a = range(0,rows[0]-rolling_window_hedge_ratio)\n",
    "\n",
    "date = []\n",
    "hedge_ratio = []\n",
    "\n",
    "for i in a:\n",
    "    model = OLS(df['NIFTY'].iloc[i:i+rolling_window_hedge_ratio], df['BANKNIFTY'].iloc[i:i+rolling_window_hedge_ratio])\n",
    "    model = model.fit()\n",
    "    hedge_ratio.append(model.params[0])\n",
    "    date.append(df.index[i+rolling_window_hedge_ratio])\n"
   ]
  },
  {
   "cell_type": "code",
   "execution_count": 44,
   "metadata": {},
   "outputs": [
    {
     "data": {
      "text/plain": [
       "3500"
      ]
     },
     "execution_count": 44,
     "metadata": {},
     "output_type": "execute_result"
    }
   ],
   "source": [
    "len(date)"
   ]
  },
  {
   "cell_type": "code",
   "execution_count": 45,
   "metadata": {},
   "outputs": [],
   "source": [
    "series_hedge_ratio = pd.Series(hedge_ratio, index=date)"
   ]
  },
  {
   "cell_type": "code",
   "execution_count": 46,
   "metadata": {},
   "outputs": [
    {
     "data": {
      "text/plain": [
       "2019-04-03 09:29:00    0.394876\n",
       "2019-04-03 09:44:00    0.394856\n",
       "2019-04-03 09:59:00    0.394837\n",
       "2019-04-03 10:14:00    0.394818\n",
       "2019-04-03 10:29:00    0.394798\n",
       "                         ...   \n",
       "2019-11-01 14:29:00    0.395723\n",
       "2019-11-01 14:44:00    0.395716\n",
       "2019-11-01 14:59:00    0.395708\n",
       "2019-11-01 15:14:00    0.395700\n",
       "2019-11-01 15:29:00    0.395693\n",
       "Length: 3500, dtype: float64"
      ]
     },
     "execution_count": 46,
     "metadata": {},
     "output_type": "execute_result"
    }
   ],
   "source": [
    "series_hedge_ratio"
   ]
  },
  {
   "cell_type": "code",
   "execution_count": 47,
   "metadata": {},
   "outputs": [],
   "source": [
    "df1 = pd.concat([df, series_hedge_ratio], axis = 1)"
   ]
  },
  {
   "cell_type": "code",
   "execution_count": 48,
   "metadata": {},
   "outputs": [],
   "source": [
    "df1.rename(columns={0:'hedge_ratio'}, inplace=True)"
   ]
  },
  {
   "cell_type": "code",
   "execution_count": 49,
   "metadata": {},
   "outputs": [
    {
     "data": {
      "text/html": [
       "<div>\n",
       "<style scoped>\n",
       "    .dataframe tbody tr th:only-of-type {\n",
       "        vertical-align: middle;\n",
       "    }\n",
       "\n",
       "    .dataframe tbody tr th {\n",
       "        vertical-align: top;\n",
       "    }\n",
       "\n",
       "    .dataframe thead th {\n",
       "        text-align: right;\n",
       "    }\n",
       "</style>\n",
       "<table border=\"1\" class=\"dataframe\">\n",
       "  <thead>\n",
       "    <tr style=\"text-align: right;\">\n",
       "      <th></th>\n",
       "      <th>NIFTY</th>\n",
       "      <th>BANKNIFTY</th>\n",
       "      <th>hedge_ratio</th>\n",
       "    </tr>\n",
       "  </thead>\n",
       "  <tbody>\n",
       "    <tr>\n",
       "      <td>2019-11-01 15:14:00</td>\n",
       "      <td>11922.05</td>\n",
       "      <td>30355.0</td>\n",
       "      <td>0.395700</td>\n",
       "    </tr>\n",
       "    <tr>\n",
       "      <td>2019-11-01 15:29:00</td>\n",
       "      <td>11936.15</td>\n",
       "      <td>30405.4</td>\n",
       "      <td>0.395693</td>\n",
       "    </tr>\n",
       "  </tbody>\n",
       "</table>\n",
       "</div>"
      ],
      "text/plain": [
       "                        NIFTY  BANKNIFTY  hedge_ratio\n",
       "2019-11-01 15:14:00  11922.05    30355.0     0.395700\n",
       "2019-11-01 15:29:00  11936.15    30405.4     0.395693"
      ]
     },
     "execution_count": 49,
     "metadata": {},
     "output_type": "execute_result"
    }
   ],
   "source": [
    "df1.tail(2)"
   ]
  },
  {
   "cell_type": "code",
   "execution_count": 50,
   "metadata": {},
   "outputs": [],
   "source": [
    "df1['spread'] = df1['NIFTY']-(df1['hedge_ratio']*df1['BANKNIFTY'])"
   ]
  },
  {
   "cell_type": "code",
   "execution_count": 51,
   "metadata": {},
   "outputs": [
    {
     "data": {
      "text/html": [
       "<div>\n",
       "<style scoped>\n",
       "    .dataframe tbody tr th:only-of-type {\n",
       "        vertical-align: middle;\n",
       "    }\n",
       "\n",
       "    .dataframe tbody tr th {\n",
       "        vertical-align: top;\n",
       "    }\n",
       "\n",
       "    .dataframe thead th {\n",
       "        text-align: right;\n",
       "    }\n",
       "</style>\n",
       "<table border=\"1\" class=\"dataframe\">\n",
       "  <thead>\n",
       "    <tr style=\"text-align: right;\">\n",
       "      <th></th>\n",
       "      <th>NIFTY</th>\n",
       "      <th>BANKNIFTY</th>\n",
       "      <th>hedge_ratio</th>\n",
       "      <th>spread</th>\n",
       "    </tr>\n",
       "  </thead>\n",
       "  <tbody>\n",
       "    <tr>\n",
       "      <td>2019-11-01 15:14:00</td>\n",
       "      <td>11922.05</td>\n",
       "      <td>30355.0</td>\n",
       "      <td>0.395700</td>\n",
       "      <td>-89.438368</td>\n",
       "    </tr>\n",
       "    <tr>\n",
       "      <td>2019-11-01 15:29:00</td>\n",
       "      <td>11936.15</td>\n",
       "      <td>30405.4</td>\n",
       "      <td>0.395693</td>\n",
       "      <td>-95.040496</td>\n",
       "    </tr>\n",
       "  </tbody>\n",
       "</table>\n",
       "</div>"
      ],
      "text/plain": [
       "                        NIFTY  BANKNIFTY  hedge_ratio     spread\n",
       "2019-11-01 15:14:00  11922.05    30355.0     0.395700 -89.438368\n",
       "2019-11-01 15:29:00  11936.15    30405.4     0.395693 -95.040496"
      ]
     },
     "execution_count": 51,
     "metadata": {},
     "output_type": "execute_result"
    }
   ],
   "source": [
    "df1.tail(2)"
   ]
  },
  {
   "cell_type": "markdown",
   "metadata": {},
   "source": [
    "# Spread / Residual Plot"
   ]
  },
  {
   "cell_type": "code",
   "execution_count": 52,
   "metadata": {},
   "outputs": [
    {
     "data": {
      "text/plain": [
       "<matplotlib.axes._subplots.AxesSubplot at 0xb302b70>"
      ]
     },
     "execution_count": 52,
     "metadata": {},
     "output_type": "execute_result"
    },
    {
     "data": {
      "image/png": "[encoded data removed]",
      "text/plain": [
       "<Figure size 1152x216 with 1 Axes>"
      ]
     },
     "metadata": {
      "needs_background": "light"
     },
     "output_type": "display_data"
    }
   ],
   "source": [
    "df1.spread.plot(figsize=(16,3))"
   ]
  },
  {
   "cell_type": "code",
   "execution_count": 53,
   "metadata": {},
   "outputs": [],
   "source": [
    "#df1.to_excel(r\"C:\\Users\\Admin\\Downloads\\nifty_banknifty_eod2.xlsx\")"
   ]
  },
  {
   "cell_type": "markdown",
   "metadata": {},
   "source": [
    "# Rolling_ADF_Calculation"
   ]
  },
  {
   "cell_type": "code",
   "execution_count": 54,
   "metadata": {},
   "outputs": [],
   "source": [
    "\n",
    "b = range(rolling_window_adf,rows[0]-rolling_window_adf)\n",
    "\n",
    "date_adf = []\n",
    "adf_list = []\n",
    "\n",
    "for i in b:\n",
    "    \n",
    "    adf = adfuller(df1['spread'].iloc[i:i+rolling_window_adf], maxlag=1)\n",
    "    adf_list.append(adf[0])\n",
    "    date_adf.append(df1.index[i+rolling_window_adf])   "
   ]
  },
  {
   "cell_type": "code",
   "execution_count": 55,
   "metadata": {},
   "outputs": [
    {
     "data": {
      "text/plain": [
       "2500"
      ]
     },
     "execution_count": 55,
     "metadata": {},
     "output_type": "execute_result"
    }
   ],
   "source": [
    "len(date_adf)"
   ]
  },
  {
   "cell_type": "code",
   "execution_count": 56,
   "metadata": {},
   "outputs": [],
   "source": [
    "series_adf = pd.Series(adf_list, index=date_adf)"
   ]
  },
  {
   "cell_type": "code",
   "execution_count": 57,
   "metadata": {},
   "outputs": [
    {
     "data": {
      "text/plain": [
       "2019-06-04 09:29:00   -1.900147\n",
       "2019-06-04 09:44:00   -1.817102\n",
       "2019-06-04 09:59:00   -1.792332\n",
       "2019-06-04 10:14:00   -1.793391\n",
       "2019-06-04 10:29:00   -1.804340\n",
       "                         ...   \n",
       "2019-11-01 14:29:00   -1.997306\n",
       "2019-11-01 14:44:00   -2.001903\n",
       "2019-11-01 14:59:00   -1.985719\n",
       "2019-11-01 15:14:00   -2.019625\n",
       "2019-11-01 15:29:00   -1.950746\n",
       "Length: 2500, dtype: float64"
      ]
     },
     "execution_count": 57,
     "metadata": {},
     "output_type": "execute_result"
    }
   ],
   "source": [
    "series_adf"
   ]
  },
  {
   "cell_type": "code",
   "execution_count": 58,
   "metadata": {},
   "outputs": [],
   "source": [
    "df2 = pd.concat([df1, series_adf], axis = 1)\n",
    "df2.rename(columns={0:'adf'}, inplace=True)"
   ]
  },
  {
   "cell_type": "code",
   "execution_count": 59,
   "metadata": {},
   "outputs": [
    {
     "data": {
      "text/html": [
       "<div>\n",
       "<style scoped>\n",
       "    .dataframe tbody tr th:only-of-type {\n",
       "        vertical-align: middle;\n",
       "    }\n",
       "\n",
       "    .dataframe tbody tr th {\n",
       "        vertical-align: top;\n",
       "    }\n",
       "\n",
       "    .dataframe thead th {\n",
       "        text-align: right;\n",
       "    }\n",
       "</style>\n",
       "<table border=\"1\" class=\"dataframe\">\n",
       "  <thead>\n",
       "    <tr style=\"text-align: right;\">\n",
       "      <th></th>\n",
       "      <th>NIFTY</th>\n",
       "      <th>BANKNIFTY</th>\n",
       "      <th>hedge_ratio</th>\n",
       "      <th>spread</th>\n",
       "      <th>adf</th>\n",
       "    </tr>\n",
       "  </thead>\n",
       "  <tbody>\n",
       "    <tr>\n",
       "      <td>2019-11-01 15:14:00</td>\n",
       "      <td>11922.05</td>\n",
       "      <td>30355.0</td>\n",
       "      <td>0.395700</td>\n",
       "      <td>-89.438368</td>\n",
       "      <td>-2.019625</td>\n",
       "    </tr>\n",
       "    <tr>\n",
       "      <td>2019-11-01 15:29:00</td>\n",
       "      <td>11936.15</td>\n",
       "      <td>30405.4</td>\n",
       "      <td>0.395693</td>\n",
       "      <td>-95.040496</td>\n",
       "      <td>-1.950746</td>\n",
       "    </tr>\n",
       "  </tbody>\n",
       "</table>\n",
       "</div>"
      ],
      "text/plain": [
       "                        NIFTY  BANKNIFTY  hedge_ratio     spread       adf\n",
       "2019-11-01 15:14:00  11922.05    30355.0     0.395700 -89.438368 -2.019625\n",
       "2019-11-01 15:29:00  11936.15    30405.4     0.395693 -95.040496 -1.950746"
      ]
     },
     "execution_count": 59,
     "metadata": {},
     "output_type": "execute_result"
    }
   ],
   "source": [
    "df2.tail(2)"
   ]
  },
  {
   "cell_type": "markdown",
   "metadata": {},
   "source": [
    "# MOVING AVERAGE & MOVING STANDARD DEVIATION"
   ]
  },
  {
   "cell_type": "code",
   "execution_count": 60,
   "metadata": {},
   "outputs": [
    {
     "data": {
      "text/html": [
       "<div>\n",
       "<style scoped>\n",
       "    .dataframe tbody tr th:only-of-type {\n",
       "        vertical-align: middle;\n",
       "    }\n",
       "\n",
       "    .dataframe tbody tr th {\n",
       "        vertical-align: top;\n",
       "    }\n",
       "\n",
       "    .dataframe thead th {\n",
       "        text-align: right;\n",
       "    }\n",
       "</style>\n",
       "<table border=\"1\" class=\"dataframe\">\n",
       "  <thead>\n",
       "    <tr style=\"text-align: right;\">\n",
       "      <th></th>\n",
       "      <th>NIFTY</th>\n",
       "      <th>BANKNIFTY</th>\n",
       "      <th>hedge_ratio</th>\n",
       "      <th>spread</th>\n",
       "      <th>adf</th>\n",
       "      <th>Moving_Average</th>\n",
       "      <th>Moving_Std</th>\n",
       "    </tr>\n",
       "  </thead>\n",
       "  <tbody>\n",
       "    <tr>\n",
       "      <td>2019-11-01 15:14:00</td>\n",
       "      <td>11922.05</td>\n",
       "      <td>30355.0</td>\n",
       "      <td>0.395700</td>\n",
       "      <td>-89.438368</td>\n",
       "      <td>-2.019625</td>\n",
       "      <td>72.073510</td>\n",
       "      <td>185.768591</td>\n",
       "    </tr>\n",
       "    <tr>\n",
       "      <td>2019-11-01 15:29:00</td>\n",
       "      <td>11936.15</td>\n",
       "      <td>30405.4</td>\n",
       "      <td>0.395693</td>\n",
       "      <td>-95.040496</td>\n",
       "      <td>-1.950746</td>\n",
       "      <td>71.582114</td>\n",
       "      <td>185.559745</td>\n",
       "    </tr>\n",
       "  </tbody>\n",
       "</table>\n",
       "</div>"
      ],
      "text/plain": [
       "                        NIFTY  BANKNIFTY  hedge_ratio     spread       adf  \\\n",
       "2019-11-01 15:14:00  11922.05    30355.0     0.395700 -89.438368 -2.019625   \n",
       "2019-11-01 15:29:00  11936.15    30405.4     0.395693 -95.040496 -1.950746   \n",
       "\n",
       "                     Moving_Average  Moving_Std  \n",
       "2019-11-01 15:14:00       72.073510  185.768591  \n",
       "2019-11-01 15:29:00       71.582114  185.559745  "
      ]
     },
     "execution_count": 60,
     "metadata": {},
     "output_type": "execute_result"
    }
   ],
   "source": [
    "df2['Moving_Average'] = df2['spread'].rolling(1000).mean()\n",
    "df2['Moving_Std'] = df2['spread'].rolling(1000).std()\n",
    "df2.tail(2)"
   ]
  },
  {
   "cell_type": "code",
   "execution_count": 61,
   "metadata": {},
   "outputs": [],
   "source": [
    "df2['upper_band'] = df2['Moving_Average']+2*df2['Moving_Std']\n",
    "df2['lower_band'] = df2['Moving_Average']-2*df2['Moving_Std']"
   ]
  },
  {
   "cell_type": "markdown",
   "metadata": {},
   "source": [
    "#Long_Position"
   ]
  },
  {
   "cell_type": "code",
   "execution_count": 62,
   "metadata": {},
   "outputs": [],
   "source": [
    "df2['long_entry'] = df2['spread'] < df2['lower_band']\n",
    "df2['long_exit'] = df2['spread'] >= df2['Moving_Average']"
   ]
  },
  {
   "cell_type": "code",
   "execution_count": 63,
   "metadata": {},
   "outputs": [
    {
     "data": {
      "text/html": [
       "<div>\n",
       "<style scoped>\n",
       "    .dataframe tbody tr th:only-of-type {\n",
       "        vertical-align: middle;\n",
       "    }\n",
       "\n",
       "    .dataframe tbody tr th {\n",
       "        vertical-align: top;\n",
       "    }\n",
       "\n",
       "    .dataframe thead th {\n",
       "        text-align: right;\n",
       "    }\n",
       "</style>\n",
       "<table border=\"1\" class=\"dataframe\">\n",
       "  <thead>\n",
       "    <tr style=\"text-align: right;\">\n",
       "      <th></th>\n",
       "      <th>NIFTY</th>\n",
       "      <th>BANKNIFTY</th>\n",
       "      <th>hedge_ratio</th>\n",
       "      <th>spread</th>\n",
       "      <th>adf</th>\n",
       "      <th>Moving_Average</th>\n",
       "      <th>Moving_Std</th>\n",
       "      <th>upper_band</th>\n",
       "      <th>lower_band</th>\n",
       "      <th>long_entry</th>\n",
       "      <th>long_exit</th>\n",
       "    </tr>\n",
       "  </thead>\n",
       "  <tbody>\n",
       "    <tr>\n",
       "      <td>2019-11-01 15:14:00</td>\n",
       "      <td>11922.05</td>\n",
       "      <td>30355.0</td>\n",
       "      <td>0.395700</td>\n",
       "      <td>-89.438368</td>\n",
       "      <td>-2.019625</td>\n",
       "      <td>72.073510</td>\n",
       "      <td>185.768591</td>\n",
       "      <td>443.610692</td>\n",
       "      <td>-299.463672</td>\n",
       "      <td>False</td>\n",
       "      <td>False</td>\n",
       "    </tr>\n",
       "    <tr>\n",
       "      <td>2019-11-01 15:29:00</td>\n",
       "      <td>11936.15</td>\n",
       "      <td>30405.4</td>\n",
       "      <td>0.395693</td>\n",
       "      <td>-95.040496</td>\n",
       "      <td>-1.950746</td>\n",
       "      <td>71.582114</td>\n",
       "      <td>185.559745</td>\n",
       "      <td>442.701605</td>\n",
       "      <td>-299.537376</td>\n",
       "      <td>False</td>\n",
       "      <td>False</td>\n",
       "    </tr>\n",
       "  </tbody>\n",
       "</table>\n",
       "</div>"
      ],
      "text/plain": [
       "                        NIFTY  BANKNIFTY  hedge_ratio     spread       adf  \\\n",
       "2019-11-01 15:14:00  11922.05    30355.0     0.395700 -89.438368 -2.019625   \n",
       "2019-11-01 15:29:00  11936.15    30405.4     0.395693 -95.040496 -1.950746   \n",
       "\n",
       "                     Moving_Average  Moving_Std  upper_band  lower_band  \\\n",
       "2019-11-01 15:14:00       72.073510  185.768591  443.610692 -299.463672   \n",
       "2019-11-01 15:29:00       71.582114  185.559745  442.701605 -299.537376   \n",
       "\n",
       "                     long_entry  long_exit  \n",
       "2019-11-01 15:14:00       False      False  \n",
       "2019-11-01 15:29:00       False      False  "
      ]
     },
     "execution_count": 63,
     "metadata": {},
     "output_type": "execute_result"
    }
   ],
   "source": [
    "df2.tail(2)"
   ]
  },
  {
   "cell_type": "code",
   "execution_count": 64,
   "metadata": {},
   "outputs": [],
   "source": [
    "df2['positions_long'] = np.nan"
   ]
  },
  {
   "cell_type": "code",
   "execution_count": 65,
   "metadata": {},
   "outputs": [],
   "source": [
    "df2.loc[df2.long_entry, 'positions_long'] = 1\n",
    "df2.loc[df2.long_exit, 'positions_long'] = 0"
   ]
  },
  {
   "cell_type": "code",
   "execution_count": 66,
   "metadata": {},
   "outputs": [
    {
     "data": {
      "text/html": [
       "<div>\n",
       "<style scoped>\n",
       "    .dataframe tbody tr th:only-of-type {\n",
       "        vertical-align: middle;\n",
       "    }\n",
       "\n",
       "    .dataframe tbody tr th {\n",
       "        vertical-align: top;\n",
       "    }\n",
       "\n",
       "    .dataframe thead th {\n",
       "        text-align: right;\n",
       "    }\n",
       "</style>\n",
       "<table border=\"1\" class=\"dataframe\">\n",
       "  <thead>\n",
       "    <tr style=\"text-align: right;\">\n",
       "      <th></th>\n",
       "      <th>NIFTY</th>\n",
       "      <th>BANKNIFTY</th>\n",
       "      <th>hedge_ratio</th>\n",
       "      <th>spread</th>\n",
       "      <th>adf</th>\n",
       "      <th>Moving_Average</th>\n",
       "      <th>Moving_Std</th>\n",
       "      <th>upper_band</th>\n",
       "      <th>lower_band</th>\n",
       "      <th>long_entry</th>\n",
       "      <th>long_exit</th>\n",
       "      <th>positions_long</th>\n",
       "    </tr>\n",
       "  </thead>\n",
       "  <tbody>\n",
       "    <tr>\n",
       "      <td>2019-11-01 15:14:00</td>\n",
       "      <td>11922.05</td>\n",
       "      <td>30355.0</td>\n",
       "      <td>0.395700</td>\n",
       "      <td>-89.438368</td>\n",
       "      <td>-2.019625</td>\n",
       "      <td>72.073510</td>\n",
       "      <td>185.768591</td>\n",
       "      <td>443.610692</td>\n",
       "      <td>-299.463672</td>\n",
       "      <td>False</td>\n",
       "      <td>False</td>\n",
       "      <td>NaN</td>\n",
       "    </tr>\n",
       "    <tr>\n",
       "      <td>2019-11-01 15:29:00</td>\n",
       "      <td>11936.15</td>\n",
       "      <td>30405.4</td>\n",
       "      <td>0.395693</td>\n",
       "      <td>-95.040496</td>\n",
       "      <td>-1.950746</td>\n",
       "      <td>71.582114</td>\n",
       "      <td>185.559745</td>\n",
       "      <td>442.701605</td>\n",
       "      <td>-299.537376</td>\n",
       "      <td>False</td>\n",
       "      <td>False</td>\n",
       "      <td>NaN</td>\n",
       "    </tr>\n",
       "  </tbody>\n",
       "</table>\n",
       "</div>"
      ],
      "text/plain": [
       "                        NIFTY  BANKNIFTY  hedge_ratio     spread       adf  \\\n",
       "2019-11-01 15:14:00  11922.05    30355.0     0.395700 -89.438368 -2.019625   \n",
       "2019-11-01 15:29:00  11936.15    30405.4     0.395693 -95.040496 -1.950746   \n",
       "\n",
       "                     Moving_Average  Moving_Std  upper_band  lower_band  \\\n",
       "2019-11-01 15:14:00       72.073510  185.768591  443.610692 -299.463672   \n",
       "2019-11-01 15:29:00       71.582114  185.559745  442.701605 -299.537376   \n",
       "\n",
       "                     long_entry  long_exit  positions_long  \n",
       "2019-11-01 15:14:00       False      False             NaN  \n",
       "2019-11-01 15:29:00       False      False             NaN  "
      ]
     },
     "execution_count": 66,
     "metadata": {},
     "output_type": "execute_result"
    }
   ],
   "source": [
    "df2.tail(2)"
   ]
  },
  {
   "cell_type": "code",
   "execution_count": 67,
   "metadata": {},
   "outputs": [],
   "source": [
    "df2['positions_long'] = df2['positions_long'].fillna(method = 'ffill')"
   ]
  },
  {
   "cell_type": "markdown",
   "metadata": {},
   "source": [
    "#Short_Position"
   ]
  },
  {
   "cell_type": "code",
   "execution_count": 68,
   "metadata": {},
   "outputs": [],
   "source": [
    "df2['short_entry'] = df2['spread'] > df2['upper_band']\n",
    "df2['short_exit'] = df2['spread'] < df2['Moving_Average']\n",
    "df2['positions_short'] = np.nan\n",
    "df2.loc[df2.short_entry, 'positions_short'] = 1\n",
    "df2.loc[df2.short_exit, 'positions_short'] = 0\n",
    "\n",
    "df2['positions_short'] = df2['positions_short'].fillna(method = 'ffill')"
   ]
  },
  {
   "cell_type": "code",
   "execution_count": 69,
   "metadata": {},
   "outputs": [],
   "source": [
    "df2['positions'] = df2['positions_long'] + df2['positions_short']"
   ]
  },
  {
   "cell_type": "code",
   "execution_count": 70,
   "metadata": {},
   "outputs": [],
   "source": [
    "df2['spread_difference'] = df2['spread'] - df2['spread'].shift(1)\n",
    "df2['pnl'] = df2['positions'].shift(1) * df2['spread_difference']\n",
    "df2['cumulative_pnl'] = df2['pnl'].cumsum()"
   ]
  },
  {
   "cell_type": "code",
   "execution_count": 71,
   "metadata": {},
   "outputs": [
    {
     "data": {
      "text/plain": [
       "<matplotlib.axes._subplots.AxesSubplot at 0xb642278>"
      ]
     },
     "execution_count": 71,
     "metadata": {},
     "output_type": "execute_result"
    },
    {
     "data": {
      "image/png": "[encoded data removed]",
      "text/plain": [
       "<Figure size 1152x288 with 1 Axes>"
      ]
     },
     "metadata": {
      "needs_background": "light"
     },
     "output_type": "display_data"
    }
   ],
   "source": [
    "df2['cumulative_pnl'].plot(figsize=(16,4))"
   ]
  },
  {
   "cell_type": "code",
   "execution_count": 73,
   "metadata": {},
   "outputs": [],
   "source": [
    "#df2.to_excel(r\"C:\\Users\\Admin\\Downloads\\nifty_banknifty_eod3.xlsx\")"
   ]
  },
  {
   "cell_type": "code",
   "execution_count": null,
   "metadata": {},
   "outputs": [],
   "source": []
  }
 ],
 "metadata": {
  "kernelspec": {
   "display_name": "Python 3",
   "language": "python",
   "name": "python3"
  },
  "language_info": {
   "codemirror_mode": {
    "name": "ipython",
    "version": 3
   },
   "file_extension": ".py",
   "mimetype": "text/x-python",
   "name": "python",
   "nbconvert_exporter": "python",
   "pygments_lexer": "ipython3",
   "version": "3.7.0"
  }
 },
 "nbformat": 4,
 "nbformat_minor": 2
}
